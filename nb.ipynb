{
 "cells": [
  {
   "cell_type": "code",
   "execution_count": 1,
   "metadata": {},
   "outputs": [
    {
     "name": "stdout",
     "output_type": "stream",
     "text": [
      "Defaulting to user installation because normal site-packages is not writeable\n",
      "Requirement already satisfied: feedparser in /home/gmn/.local/lib/python3.10/site-packages (6.0.10)\n",
      "Requirement already satisfied: beautifulsoup4 in /home/gmn/.local/lib/python3.10/site-packages (4.11.2)\n",
      "Requirement already satisfied: sentencepiece in /home/gmn/.local/lib/python3.10/site-packages (0.1.97)\n",
      "Requirement already satisfied: sgmllib3k in /home/gmn/.local/lib/python3.10/site-packages (from feedparser) (1.0.0)\n",
      "Requirement already satisfied: soupsieve>1.2 in /home/gmn/.local/lib/python3.10/site-packages (from beautifulsoup4) (2.4)\n",
      "Note: you may need to restart the kernel to use updated packages.\n"
     ]
    }
   ],
   "source": [
    "%pip install feedparser beautifulsoup4 sentencepiece"
   ]
  },
  {
   "cell_type": "code",
   "execution_count": 2,
   "metadata": {},
   "outputs": [
    {
     "name": "stderr",
     "output_type": "stream",
     "text": [
      "/home/gmn/.local/lib/python3.10/site-packages/tqdm/auto.py:22: TqdmWarning: IProgress not found. Please update jupyter and ipywidgets. See https://ipywidgets.readthedocs.io/en/stable/user_install.html\n",
      "  from .autonotebook import tqdm as notebook_tqdm\n"
     ]
    }
   ],
   "source": [
    "import feedparser\n",
    "from transformers import pipeline\n",
    "from bs4 import BeautifulSoup\n",
    "from transformers import T5Tokenizer, T5ForConditionalGeneration"
   ]
  },
  {
   "cell_type": "code",
   "execution_count": 4,
   "metadata": {},
   "outputs": [],
   "source": [
    "feed = feedparser.parse(\"https://azure.microsoft.com/fr-fr/blog/feed/\")\n",
    "articles = feed.entries"
   ]
  },
  {
   "cell_type": "code",
   "execution_count": 5,
   "metadata": {},
   "outputs": [],
   "source": [
    "souped = []\n",
    "\n",
    "for article in articles:\n",
    "    souped.append({\n",
    "        \"title\": article.title,\n",
    "        \"content\": BeautifulSoup(article.content[0].value, \"html.parser\").get_text()\n",
    "    })"
   ]
  },
  {
   "cell_type": "code",
   "execution_count": 8,
   "metadata": {},
   "outputs": [
    {
     "name": "stderr",
     "output_type": "stream",
     "text": [
      "No model was supplied, defaulted to sshleifer/distilbart-cnn-12-6 and revision a4f8f3e (https://huggingface.co/sshleifer/distilbart-cnn-12-6).\n",
      "Using a pipeline without specifying a model name and revision in production is not recommended.\n"
     ]
    }
   ],
   "source": [
    "tokenizer = pipeline(\"summarization\", max_length=512, truncation=True)"
   ]
  },
  {
   "cell_type": "code",
   "execution_count": 9,
   "metadata": {},
   "outputs": [
    {
     "name": "stdout",
     "output_type": "stream",
     "text": [
      "========================\n",
      "-> 3 Microsoft Azure AI product features that accelerate language learning\n",
      " Microsoft's new Pronunciation Assessment feature is designed to provide instant feedback to users on the accuracy, fluency, and prosody of their speech when learning a new language . The service is currently available in more than 10 languages, including American English, British English, Australian English, French\n",
      "========================\n",
      "-> Microsoft Azure innovation powers leading price-performance for SQL Server\n",
      " Microsoft announces new, faster performance benchmarks for Microsoft's SQL Server on Azure Virtual Machines . Customers can get mission-critical performance for SQL Server up to 57 percent faster and costing up to 54 percent less than AWS EC2 on a price-performance basis, with a three-year commitment .\n",
      "========================\n",
      "-> Microsoft and Rockwell Automation collaborate on digital solutions for manufacturers\n",
      " Microsoft and Rockwell Automation are working with Microsoft to build digital solutions that deliver transformational outcomes with immediate value and long-term scale, resilience, and agility . Microsoft's cloud-to-cloud tools unify processes and data management across a company’s cloud, on-\n",
      "========================\n",
      "-> Farming from space: How orbital data is unlocking novel agriculture insights\n",
      " By 2050, global food production will have to rise by a staggering 70 percent to feed the growing global population . The African continent will play a leading role in global food security, with 60 percent of the world's uncultivated arable land situated in Africa . An estimated 80 percent of\n"
     ]
    }
   ],
   "source": [
    "for article in souped:\n",
    "    # check if the article has text\n",
    "    if article:\n",
    "        try:\n",
    "            summary = tokenizer(article[\"content\"], max_length=60, min_length=40)\n",
    "            print(\"========================\")\n",
    "            print(\"->\", article[\"title\"])\n",
    "            print(summary[0][\"summary_text\"])\n",
    "        except IndexError:\n",
    "            # catch the exception and continue\n",
    "            print(\"Could not generate summary for this article.\")\n",
    "            continue\n",
    "\n"
   ]
  }
 ],
 "metadata": {
  "kernelspec": {
   "display_name": "Python 3",
   "language": "python",
   "name": "python3"
  },
  "language_info": {
   "codemirror_mode": {
    "name": "ipython",
    "version": 3
   },
   "file_extension": ".py",
   "mimetype": "text/x-python",
   "name": "python",
   "nbconvert_exporter": "python",
   "pygments_lexer": "ipython3",
   "version": "3.10.6"
  },
  "orig_nbformat": 4,
  "vscode": {
   "interpreter": {
    "hash": "916dbcbb3f70747c44a77c7bcd40155683ae19c65e1c03b4aa3499c5328201f1"
   }
  }
 },
 "nbformat": 4,
 "nbformat_minor": 2
}
